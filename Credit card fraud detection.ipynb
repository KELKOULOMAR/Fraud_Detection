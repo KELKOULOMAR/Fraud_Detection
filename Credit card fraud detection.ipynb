{
 "cells": [
  {
   "cell_type": "markdown",
   "metadata": {},
   "source": [
    "# Credit card fraud detection\n",
    "\n",
    "The mean goal is to predict instances of fraud using data based on [this dataset from Kaggle](https://www.kaggle.com/dalpozz/creditcardfraud).\n",
    " \n",
    "Each row in `fraud_data.csv` corresponds to a credit card transaction. Features include confidential variables `V1` through `V28` as well as `Amount` which is the amount of the transaction. \n",
    " \n",
    "The target is stored in the `class` column, where a value of 1 corresponds to an instance of fraud and 0 corresponds to an instance of not fraud."
   ]
  },
  {
   "cell_type": "markdown",
   "metadata": {},
   "source": [
    "### 1st step:\n",
    "Import data and calculate the percentage of the observations in the dataset that are instances of fraud."
   ]
  },
  {
   "cell_type": "code",
   "execution_count": 2,
   "metadata": {},
   "outputs": [
    {
     "name": "stdout",
     "output_type": "stream",
     "text": [
      "1.641082 % of observations are fraud\n"
     ]
    }
   ],
   "source": [
    "import numpy as np\n",
    "import pandas as pd\n",
    "from sklearn.metrics import confusion_matrix\n",
    "from sklearn.model_selection import train_test_split\n",
    "from sklearn.dummy import DummyClassifier\n",
    "from sklearn.svm import SVC\n",
    "from sklearn.metrics import recall_score, precision_score\n",
    "from sklearn.model_selection import GridSearchCV\n",
    "from sklearn.linear_model import LogisticRegression\n",
    "from sklearn import preprocessing\n",
    "\n",
    "\n",
    "df = pd.read_csv('fraud_data.csv')\n",
    "print(\"%f %% of observations are fraud\" % (len(df[df[\"Class\"]==1])*100/len(df)))\n"
   ]
  },
  {
   "cell_type": "markdown",
   "metadata": {},
   "source": [
    "### 2nd step:\n",
    "Split data to X_train, X_test, y_train, and y_test."
   ]
  },
  {
   "cell_type": "code",
   "execution_count": 3,
   "metadata": {},
   "outputs": [],
   "source": [
    "X = df.iloc[:,:-1]\n",
    "y = df.iloc[:,-1]\n",
    "X_train, X_test, y_train, y_test = train_test_split(X, y, random_state=0)"
   ]
  },
  {
   "cell_type": "markdown",
   "metadata": {},
   "source": [
    "### 3rd step:\n",
    "Training a dummy classifier that classifies everything as the majority class of the training data and calculate its accuracy and its the recall"
   ]
  },
  {
   "cell_type": "code",
   "execution_count": 4,
   "metadata": {},
   "outputs": [
    {
     "name": "stdout",
     "output_type": "stream",
     "text": [
      "The acuuracy of a dummy classifier is 98.525074% and its recall is 0.000000%\n"
     ]
    }
   ],
   "source": [
    "model=DummyClassifier(strategy=\"most_frequent\").fit(X_train,y_train)\n",
    "acc1=model.score(X_test,y_test)\n",
    "rec1=recall_score(y_test,model.predict(X_test))\n",
    "print(\"The acuuracy of a dummy classifier is %f%% and its recall is %f%%\" % (acc1*100,rec1*100))"
   ]
  },
  {
   "cell_type": "markdown",
   "metadata": {},
   "source": [
    "### 4th step: \n",
    "As the pourcentage of fraud if very small, accuracy is not a good metric for our project. \n",
    "Recall and precision are better metrics to evaluate our model. \n",
    "As the recall of dummy regressor is very small, we train a SVC classifer using the default parameters and calculate its accuracy, it's recall and it's precision."
   ]
  },
  {
   "cell_type": "code",
   "execution_count": 5,
   "metadata": {},
   "outputs": [
    {
     "name": "stdout",
     "output_type": "stream",
     "text": [
      "The accuracy of SVC classifer is 99.004425%, its recall is 35.000000% and its precision is 93.333333%\n"
     ]
    }
   ],
   "source": [
    "model=SVC().fit(X_train,y_train)\n",
    "acc2=model.score(X_test,y_test)   \n",
    "rec2=recall_score(y_test,model.predict(X_test))   \n",
    "pre2=precision_score(y_test,model.predict(X_test))  \n",
    "\n",
    "print(\"The accuracy of SVC classifer is %f%%, its recall is %f%% and its precision is %F%%\" % (acc2*100,rec2*100,pre2*100))"
   ]
  },
  {
   "cell_type": "markdown",
   "metadata": {},
   "source": [
    "### 5th step:\n",
    "We see that the recall is better in SVC classifier than dummy regressor.\n",
    "Even if we have a good precision score, but to avoid to misclassify any fraud, we will improve recall by optimising parameters of the SVC classifier."
   ]
  },
  {
   "cell_type": "code",
   "execution_count": 6,
   "metadata": {},
   "outputs": [
    {
     "name": "stdout",
     "output_type": "stream",
     "text": [
      "The accuracy of optimized SVC classifer is 99.594395%, its recall is 82.500000% and its precision is 73.333333%\n"
     ]
    }
   ],
   "source": [
    "model=SVC(C=1e9, gamma= 1e-07).fit(X_train,y_train)\n",
    "svm_predicted_mc = model.decision_function(X_test) > -220\n",
    "acc3=model.score(X_test,svm_predicted_mc)   \n",
    "rec3=recall_score(y_test,svm_predicted_mc)   \n",
    "pre3=precision_score(y_test,svm_predicted_mc)  \n",
    "print(\"The accuracy of optimized SVC classifer is %f%%, its recall is %f%% and its precision is %F%%\" % (acc3*100,rec3*100,pre3*100))"
   ]
  },
  {
   "cell_type": "markdown",
   "metadata": {},
   "source": [
    "### 6th step:\n",
    "We train a logistic regression and optimize our model with Grid Search CV function. \n",
    "We evaluate again with precision and recall."
   ]
  },
  {
   "cell_type": "code",
   "execution_count": 7,
   "metadata": {},
   "outputs": [
    {
     "name": "stdout",
     "output_type": "stream",
     "text": [
      "The precision of optimized logistic regression is 96.923077%, its recall is 78.750000%\n"
     ]
    }
   ],
   "source": [
    "scaler = preprocessing.StandardScaler().fit(X_train)\n",
    "X_scaled = scaler.transform(X_train)\n",
    "lr = LogisticRegression()\n",
    "grid_values = {'penalty':['l2'], 'C': [0.01, 0.1, 1, 10, 100]}\n",
    "grid_clf_rec = GridSearchCV(lr, param_grid = grid_values, scoring = 'recall')\n",
    "grid_clf_rec.fit(X_scaled, y_train)\n",
    "lr_predict_mc=grid_clf_rec.predict(scaler.transform(X_test))\n",
    "rec4=recall_score(y_test,lr_predict_mc)   \n",
    "pre4=precision_score(y_test,lr_predict_mc)  \n",
    "print(\"The precision of optimized logistic regression is %f%%, its recall is %f%%\" % (pre4*100,rec4*100))"
   ]
  },
  {
   "cell_type": "markdown",
   "metadata": {},
   "source": [
    "###### As a conclusion, the SVC model with C=1e9 and gamma= 1e-07 is the best model to use in our case."
   ]
  }
 ],
 "metadata": {
  "kernelspec": {
   "display_name": "Python 3",
   "language": "python",
   "name": "python3"
  },
  "language_info": {
   "codemirror_mode": {
    "name": "ipython",
    "version": 3
   },
   "file_extension": ".py",
   "mimetype": "text/x-python",
   "name": "python",
   "nbconvert_exporter": "python",
   "pygments_lexer": "ipython3",
   "version": "3.8.5"
  }
 },
 "nbformat": 4,
 "nbformat_minor": 4
}
